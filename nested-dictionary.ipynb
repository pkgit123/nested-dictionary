{
 "cells": [
  {
   "cell_type": "markdown",
   "metadata": {},
   "source": [
    "# Finding a Particular Value in Nested Dictionary\n",
    "\n",
    "### Problem Statement: \n",
    "We are given a nested json file, with unknown structure.  It has typical key-value pairs, but some of the values are nested key-value pairs.  But there is no guidance upfront on how many keys at each level, nor is there guidance on how many levels.  But we are looking for a particular \"value\" (or perhaps key-value) ... whether it exists at all ... and ultimately how to find it.\n",
    "\n",
    "### Solutions:\n",
    "* Regular expressions (I don't like this approach, because it won't preserve the key-value structure)\n",
    "* Convert the value to a string\n",
    "* Recursive function\n",
    "* flatten_json\n",
    "\n",
    "### Example nested dictionary below\n",
    "In the nested dictionary below, find a key-value pair: \n",
    ">'tomorrow': 'future'"
   ]
  },
  {
   "cell_type": "code",
   "execution_count": 1,
   "metadata": {},
   "outputs": [],
   "source": [
    "# simple nested dictionary ... goal is to find value 'future'\n",
    "nested_dict_sample = {\n",
    "    'a': 1,\n",
    "    'b': 2,\n",
    "    'c': 3,\n",
    "    'd': {\n",
    "        'alpha': 'first',\n",
    "        'beta': 'second',\n",
    "        'gamma': {\n",
    "            'yesterday': -1,\n",
    "            'today': 0,\n",
    "            'tomorrow': 'future'\n",
    "        }\n",
    "    }\n",
    "}"
   ]
  },
  {
   "cell_type": "code",
   "execution_count": 2,
   "metadata": {},
   "outputs": [
    {
     "data": {
      "text/plain": [
       "dict_keys(['a', 'b', 'c', 'd'])"
      ]
     },
     "execution_count": 2,
     "metadata": {},
     "output_type": "execute_result"
    }
   ],
   "source": [
    "# examine the keys at the top level\n",
    "nested_dict_sample.keys()"
   ]
  },
  {
   "cell_type": "code",
   "execution_count": 3,
   "metadata": {},
   "outputs": [
    {
     "data": {
      "text/plain": [
       "1"
      ]
     },
     "execution_count": 3,
     "metadata": {},
     "output_type": "execute_result"
    }
   ],
   "source": [
    "# examine value for one of the keys\n",
    "nested_dict_sample['a']"
   ]
  },
  {
   "cell_type": "code",
   "execution_count": 4,
   "metadata": {},
   "outputs": [
    {
     "data": {
      "text/plain": [
       "dict_items([('a', 1), ('b', 2), ('c', 3), ('d', {'alpha': 'first', 'beta': 'second', 'gamma': {'yesterday': -1, 'today': 0, 'tomorrow': 'future'}})])"
      ]
     },
     "execution_count": 4,
     "metadata": {},
     "output_type": "execute_result"
    }
   ],
   "source": [
    "# using dict.items() only unpacks the first level ... list of tuple pairs \n",
    "# first item in the tuple is the key, the second item is the value\n",
    "# this would work for un-nested dictionaries\n",
    "nested_dict_sample.items()"
   ]
  },
  {
   "cell_type": "markdown",
   "metadata": {},
   "source": [
    "### Simple dictionary exploration\n",
    "\n",
    "* convert dictionary to string\n",
    "* use dict.items()\n",
    "* use any() function"
   ]
  },
  {
   "cell_type": "code",
   "execution_count": 5,
   "metadata": {},
   "outputs": [
    {
     "name": "stdout",
     "output_type": "stream",
     "text": [
      "{'a': 1, 'b': 2, 'c': 3, 'd': {'alpha': 'first', 'beta': 'second', 'gamma': {'yesterday': -1, 'today': 0, 'tomorrow': 'future'}}}\n",
      "True\n"
     ]
    }
   ],
   "source": [
    "# convert nested dictionary to a single string\n",
    "str_nested_dict = str(nested_dict_sample)\n",
    "\n",
    "# print the string\n",
    "print(str_nested_dict)\n",
    "\n",
    "# see if we can find our word in the dictionary\n",
    "print('future' in str_nested_dict)"
   ]
  },
  {
   "cell_type": "code",
   "execution_count": 6,
   "metadata": {},
   "outputs": [
    {
     "name": "stdout",
     "output_type": "stream",
     "text": [
      "The string we are looking for is somewhere inside here: \n",
      "('d', {'alpha': 'first', 'beta': 'second', 'gamma': {'yesterday': -1, 'today': 0, 'tomorrow': 'future'}})\n"
     ]
    }
   ],
   "source": [
    "# convert the key-value pairs to strings ... so you can only know which top-level key it is in\n",
    "# https://stackoverflow.com/questions/14849293/python-find-index-position-in-list-based-of-partial-string\n",
    "indices = [i for i, s in enumerate(nested_dict_sample.items()) if 'future' in str(s)]\n",
    "\n",
    "# this will print the entire value ... might be huge if lots of nested levels\n",
    "for each_index in indices:\n",
    "    print('The string we are looking for is somewhere inside here: ')\n",
    "    print(list(nested_dict_sample.items())[each_index])"
   ]
  },
  {
   "cell_type": "code",
   "execution_count": 7,
   "metadata": {},
   "outputs": [
    {
     "data": {
      "text/plain": [
       "True"
      ]
     },
     "execution_count": 7,
     "metadata": {},
     "output_type": "execute_result"
    }
   ],
   "source": [
    "# this is a simple boolean result for whether the search string is inside the dictionary at all ... not where\n",
    "any('future' in str(x) for x in nested_dict_sample.items())"
   ]
  },
  {
   "cell_type": "markdown",
   "metadata": {},
   "source": [
    "### flatten_json\n",
    "\n",
    "Once the json is flatten, just search using list comprehension on dict.items()."
   ]
  },
  {
   "cell_type": "code",
   "execution_count": 8,
   "metadata": {},
   "outputs": [],
   "source": [
    "# ! pip install --upgrade pip\n",
    "# ! pip install flatten_json"
   ]
  },
  {
   "cell_type": "code",
   "execution_count": 9,
   "metadata": {},
   "outputs": [],
   "source": [
    "import flatten_json"
   ]
  },
  {
   "cell_type": "code",
   "execution_count": 10,
   "metadata": {},
   "outputs": [
    {
     "data": {
      "text/plain": [
       "{'a': 1,\n",
       " 'b': 2,\n",
       " 'c': 3,\n",
       " 'd_alpha': 'first',\n",
       " 'd_beta': 'second',\n",
       " 'd_gamma_yesterday': -1,\n",
       " 'd_gamma_today': 0,\n",
       " 'd_gamma_tomorrow': 'future'}"
      ]
     },
     "execution_count": 10,
     "metadata": {},
     "output_type": "execute_result"
    }
   ],
   "source": [
    "flatten_sample = flatten_json.flatten(nested_dict_sample)\n",
    "flatten_sample"
   ]
  },
  {
   "cell_type": "code",
   "execution_count": 11,
   "metadata": {},
   "outputs": [
    {
     "data": {
      "text/plain": [
       "[('d_gamma_tomorrow', 'future')]"
      ]
     },
     "execution_count": 11,
     "metadata": {},
     "output_type": "execute_result"
    }
   ],
   "source": [
    "str_search = 'future'\n",
    "# str_search = 'not here'\n",
    "[(k, v) for k, v in flatten_sample.items() if v == str_search]"
   ]
  },
  {
   "cell_type": "code",
   "execution_count": 12,
   "metadata": {},
   "outputs": [],
   "source": [
    "def search_nested_dict(search_dict, field):\n",
    "    '''\n",
    "    Takes a nested dictionary and checks if search field is present.  \n",
    "    If so, flatten the dictionary and return the key-value pair.\n",
    "    '''\n",
    "    \n",
    "    # only proceed if field is present\n",
    "    if (field in str(search_dict)):\n",
    "        \n",
    "        # flatten dictionary\n",
    "        flatten_sample = flatten_json.flatten(search_dict)\n",
    "        \n",
    "        # search for field, return flatten-key\n",
    "        result = [(k, v) for k, v in flatten_sample.items() if v == field]\n",
    "    \n",
    "    # return error message if the field not present\n",
    "    else: \n",
    "        \n",
    "        result = 'Search field is not present in dictionary'\n",
    "        \n",
    "    return result"
   ]
  },
  {
   "cell_type": "code",
   "execution_count": 13,
   "metadata": {},
   "outputs": [
    {
     "data": {
      "text/plain": [
       "[('d_gamma_tomorrow', 'future')]"
      ]
     },
     "execution_count": 13,
     "metadata": {},
     "output_type": "execute_result"
    }
   ],
   "source": [
    "# run the function when dict contains search field\n",
    "search_nested_dict(nested_dict_sample, 'future')"
   ]
  },
  {
   "cell_type": "code",
   "execution_count": 14,
   "metadata": {},
   "outputs": [
    {
     "data": {
      "text/plain": [
       "'Search field is not present in dictionary'"
      ]
     },
     "execution_count": 14,
     "metadata": {},
     "output_type": "execute_result"
    }
   ],
   "source": [
    "# run the function when dict does not contain search field\n",
    "search_nested_dict(nested_dict_sample, 'not here')"
   ]
  },
  {
   "cell_type": "markdown",
   "metadata": {},
   "source": [
    "### using recursive function\n",
    "\n",
    "https://stackoverflow.com/questions/14962485/finding-a-key-recursively-in-a-dictionary"
   ]
  },
  {
   "cell_type": "code",
   "execution_count": 15,
   "metadata": {},
   "outputs": [],
   "source": [
    "def get_recursively(search_dict, field):\n",
    "    \"\"\"\n",
    "    Takes a dict with nested lists and dicts,\n",
    "    and searches all dicts for a key of the field\n",
    "    provided.\n",
    "    \n",
    "    Made a few changes:\n",
    "     * using dict.items() instead of dict.iteritems()\n",
    "     * searching for value instead of key\n",
    "    \n",
    "    \n",
    "    References: \n",
    "    https://stackoverflow.com/questions/14962485/finding-a-key-recursively-in-a-dictionary\n",
    "    \"\"\"\n",
    "    fields_found = []\n",
    "\n",
    "    for each_tuple in search_dict.items():\n",
    "        \n",
    "        (key, value) = each_tuple\n",
    "\n",
    "        if value == field:\n",
    "            fields_found.append(value)\n",
    "\n",
    "        elif isinstance(value, dict):\n",
    "            results = get_recursively(value, field)\n",
    "            for result in results:\n",
    "                fields_found.append(result)\n",
    "\n",
    "        elif isinstance(value, list):\n",
    "            for item in value:\n",
    "                if isinstance(item, dict):\n",
    "                    more_results = get_recursively(item, field)\n",
    "                    for another_result in more_results:\n",
    "                        fields_found.append(another_result)\n",
    "\n",
    "    return fields_found"
   ]
  },
  {
   "cell_type": "code",
   "execution_count": 16,
   "metadata": {},
   "outputs": [
    {
     "data": {
      "text/plain": [
       "['future']"
      ]
     },
     "execution_count": 16,
     "metadata": {},
     "output_type": "execute_result"
    }
   ],
   "source": [
    "get_recursively(nested_dict_sample, 'future')"
   ]
  },
  {
   "cell_type": "markdown",
   "metadata": {},
   "source": [
    "### Other solutions:\n",
    "https://stackoverflow.com/questions/31033549/nested-dictionary-value-from-key-path\n",
    "    \n",
    "benedict\n",
    "https://github.com/fabiocaccamo/python-benedict\n",
    "\n",
    "dpath-python\n",
    "https://github.com/akesterson/dpath-python"
   ]
  },
  {
   "cell_type": "code",
   "execution_count": null,
   "metadata": {},
   "outputs": [],
   "source": []
  }
 ],
 "metadata": {
  "kernelspec": {
   "display_name": "Python 3",
   "language": "python",
   "name": "python3"
  },
  "language_info": {
   "codemirror_mode": {
    "name": "ipython",
    "version": 3
   },
   "file_extension": ".py",
   "mimetype": "text/x-python",
   "name": "python",
   "nbconvert_exporter": "python",
   "pygments_lexer": "ipython3",
   "version": "3.6.5"
  }
 },
 "nbformat": 4,
 "nbformat_minor": 2
}
